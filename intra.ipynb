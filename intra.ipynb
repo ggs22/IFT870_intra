{
  "cells": [
    {
      "cell_type": "markdown",
      "metadata": {},
      "source": [
        "# Examen Intra\n",
        "## gibg2501 - 14 mars 2020 "
      ]
    },
    {
      "cell_type": "code",
      "metadata": {},
      "source": [
        "\n",
        "import numpy as np\n",
        "import pandas as pd\n",
        "import re\n",
        "import csv\n",
        "import os\n",
        "import pickle\n",
        "\n",
        "from _datetime import datetime\n",
        "from sklearn.preprocessing import OneHotEncoder\n",
        "\n",
        "api_journal = pd.read_csv('api_journal11-13-17.csv', encoding='latin1')\n",
        "api_price = pd.read_csv('api_price11-13-17.csv', encoding='latin1')\n",
        "estimated_article_influence = pd.read_csv('estimated-article-influence-scores-2015.csv', encoding='latin1')"
      ],
      "outputs": [],
      "execution_count": null
    },
    {
      "cell_type": "markdown",
      "metadata": {},
      "source": [
        "# Q1"
      ]
    },
    {
      "cell_type": "markdown",
      "metadata": {},
      "source": [
        "La table \"estimated article influence\" pr\u00e9sente le nombre de fois o\u00f9 un p\u00e9riodique a \u00e9t\u00e9 cit\u00e9. Elle contient les\n",
        "attributs:\n",
        "- journal name:\n",
        "    contient les noms des journeaux dans lesquels les articles sont publi\u00e9s \n",
        "- issn (International Standard Serial Number)\n",
        "    Contient les num\u00e9ros de s\u00e9ries d'identification des p\u00e9riodiques\n",
        "- Citation count sum\n",
        "    Compile le nombre de fois ou un p\u00e9riodique a \u00e9t\u00e9 cit\u00e9 \u00e0 travers tous les articles\n",
        "- Paper count sum\n",
        "    Compile le nomre de d'articles o\u00f9 le p\u00e9riodique en question a \u00e9t\u00e9 cit\u00e9\n",
        "- average citation per parper\n",
        "    Calcul le moyene de citation par article de"
      ]
    },
    {
      "cell_type": "code",
      "metadata": {},
      "source": [
        "estimated_article_influence.describe()"
      ],
      "outputs": [],
      "execution_count": null
    },
    {
      "cell_type": "markdown",
      "metadata": {},
      "source": [
        "La table \"API journal\" classifie les articles dans les divers domaines de la science (Medecine, Geology, Social\n",
        "Science, etc). Elle indique \u00e9galement si les articles sont dispobilbes via l'API REST de flourishoar.org. Ces\n",
        "colonnes sont:\n",
        "- issn (International Standard Serial Number)\n",
        "    Contient les num\u00e9ros de s\u00e9ries d'identification des p\u00e9riodiques\n",
        "- journal name:\n",
        "    contient les noms des journeaux qui sont disponibles via l'API de flourishoa\n",
        "- pub_name\n",
        "    pr\u00e9sente le nom du publieur des p\u00e9riodiques. Il S'agit de valeurs textuelles, et certaines sont manquantes.\n",
        "- is hybrid\n",
        "    Indique si le p\u00e9riodique est disponible selon la modalit\u00e9 d'abonnement hybride sous laquelle certains artices\n",
        "    sont donn\u00e9s en acc\u00e8s gratuits. Il s'agit d'une variable bool\u00e9enne.\n",
        "- category\n",
        "    Indique la domaine du p\u00e9riodique. Beacoup de valeurs sont \"NULL\" et certaines sont carr\u00e9ment absentes.\n",
        "- url\n",
        "    Donne le \"Unique Ressource Locator\" pour le p\u00e9riodique. La plupart des valeurs sont absentes ou \"NULL\"."
      ]
    },
    {
      "cell_type": "code",
      "metadata": {},
      "source": [
        "api_journal.describe()"
      ],
      "outputs": [],
      "execution_count": null
    },
    {
      "cell_type": "markdown",
      "metadata": {},
      "source": [
        "La table \"API price\" aggr\u00e8ge les donn\u00e9es relatives aux prix des diff\u00e9rentes publications. Elles contient les attributs:\n",
        "- id\n",
        "    num\u00e9ro s\u00e9quentiel ordonnant les entr\u00e9es de la table\n",
        "- price \n",
        "    indique le prix des publicatios il d'agit de valeurs num\u00e9riques\n",
        "- date_stamp\n",
        "    indique la date pour laquelle le prix a \u00e9t\u00e9 recens\u00e9\n",
        "- journal id\n",
        "    contient un identifiant num\u00e9rique pour le journal\n",
        "- influence_id\n",
        "    contient un indicateur num\u00e9rique du degr\u00e9 d'infuence d'une publication. La plupart des valeurs sont NULL \n",
        "- url\n",
        "    Donne le \"Unified Ressource Locator\" qui semble a priori port\u00e9 sur le prix des publications\n",
        "    (ex: https://www.elsevier.com/journals/alcohol/0741-8329/open-access-options). Cependant, la plupart des liens\n",
        "    semblent bris\u00e9s."
      ]
    },
    {
      "cell_type": "code",
      "metadata": {},
      "source": [
        "api_price.describe()"
      ],
      "outputs": [],
      "execution_count": null
    },
    {
      "cell_type": "markdown",
      "metadata": {},
      "source": [
        "# Q2"
      ]
    },
    {
      "cell_type": "markdown",
      "metadata": {},
      "source": [
        "Selon wikipedia, un issn peut servir \u00e0 diff\u00e9rencier des publications ayant le m\u00eame tite: \"An International Standard\n",
        "Serial Number (ISSN) is an eight-digit serial number used to uniquely identify a serial publication, such as a magazine.\n",
        "[1] The ISSN is especially helpful in distinguishing between serials with the same title.\" Les publications ayant le m\u00eame\n",
        "titre ne seront donc pas consid\u00e9r\u00e9es comme des duplicatats si leurs issn diff\u00e8rent"
      ]
    },
    {
      "cell_type": "code",
      "metadata": {},
      "source": [
        "\n",
        "api_journal.duplicated()"
      ],
      "outputs": [],
      "execution_count": null
    },
    {
      "cell_type": "code",
      "metadata": {},
      "source": [
        "\n",
        "api_journal.corr()\n",
        "\n"
      ],
      "outputs": [],
      "execution_count": null
    }
  ],
  "metadata": {
    "anaconda-cloud": {},
    "kernelspec": {
      "display_name": "Python 3",
      "language": "python",
      "name": "python3"
    },
    "language_info": {
      "codemirror_mode": {
        "name": "ipython",
        "version": 3
      },
      "file_extension": ".py",
      "mimetype": "text/x-python",
      "name": "python",
      "nbconvert_exporter": "python",
      "pygments_lexer": "ipython3",
      "version": "3.6.1"
    }
  },
  "nbformat": 4,
  "nbformat_minor": 1
}