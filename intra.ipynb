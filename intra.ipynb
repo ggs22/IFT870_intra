{
 "cells": [
  {
   "cell_type": "markdown",
   "metadata": {
    "pycharm": {
     "name": "#%% md\n"
    }
   },
   "source": [
    "# Examen Intra\n",
    "## gibg2501 - 14 mars 2020 "
   ]
  },
  {
   "cell_type": "code",
   "execution_count": null,
   "outputs": [],
   "source": [
    "\n",
    "import numpy as np\n",
    "import pandas as pd\n",
    "import re\n",
    "import csv\n",
    "import os\n",
    "import pickle\n",
    "\n",
    "from _datetime import datetime\n",
    "from sklearn.preprocessing import OneHotEncoder"
   ],
   "metadata": {
    "collapsed": false,
    "pycharm": {
     "name": "#%%\n"
    }
   }
  },
  {
   "cell_type": "markdown",
   "metadata": {
    "pycharm": {
     "name": "#%% md\n"
    }
   },
   "source": [
    "# Q1\n",
    "La table \"estimated article influence\" présente le nombre de fois où un périodique a été cité. Elle contient les attributs:\n",
    "- journal name:\n",
    "    contient les noms des journeaux dans lesquels les articles sont publiés \n",
    "- issn (International Standard Serial Number)\n",
    "    Contient les numéros de séries d'identification des périodiques\n",
    "- Citation count sum\n",
    "    Compile le nombre de fois ou un périodique a été cité à travers tous les articles\n",
    "- Paper count sum\n",
    "    Compile le nomre de d'articles où le périodique en question a été cité\n",
    "- average citation per parper\n",
    "    Calcul le moyene de citation par article de \n",
    "\n",
    "La table \"API journal\" classifie les articles dans les divers domaines de la science (Medecine, Geology, Social Science, etc)\n",
    "- "
   ]
  },
  {
   "cell_type": "code",
   "execution_count": null,
   "outputs": [],
   "source": [],
   "metadata": {
    "collapsed": false,
    "pycharm": {
     "name": "#%%\n"
    }
   }
  },
  {
   "cell_type": "markdown",
   "metadata": {},
   "source": [
    "# 1. Auscultation\n",
    "Nous avons déjà prétraitées les données (passage en minuscules des données textuelles) afin de minimiser l'inconsistance\n",
    "entre les valeurs.\n",
    "\n",
    "## Etude des données du fichier 'package'"
   ]
  }
 ],
 "metadata": {
  "anaconda-cloud": {},
  "kernelspec": {
   "display_name": "Python 3",
   "language": "python",
   "name": "python3"
  },
  "language_info": {
   "codemirror_mode": {
    "name": "ipython",
    "version": 3
   },
   "file_extension": ".py",
   "mimetype": "text/x-python",
   "name": "python",
   "nbconvert_exporter": "python",
   "pygments_lexer": "ipython3",
   "version": "3.6.1"
  },
  "pycharm": {
   "stem_cell": {
    "cell_type": "raw",
    "source": [],
    "metadata": {
     "collapsed": false
    }
   }
  }
 },
 "nbformat": 4,
 "nbformat_minor": 1
}