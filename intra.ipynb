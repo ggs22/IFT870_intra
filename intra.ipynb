{
 "cells": [
  {
   "cell_type": "code",
   "metadata": {},
   "source": [
    "import numpy as np\n",
    "import pandas as pd\n",
    "import re\n",
    "import csv\n",
    "import os\n",
    "import pickle\n",
    "\n",
    "from _datetime import datetime\n",
    "from sklearn.preprocessing import OneHotEncoder"
   ],
   "outputs": [],
   "execution_count": null
  },
  {
   "cell_type": "markdown",
   "metadata": {
    "pycharm": {
     "name": "#%% md\n"
    }
   },
   "source": [
    "product_encode_file_exist = os.path.isfile(encoded_product_file)\n",
    "package_encode_file_exist = os.path.isfile(encoded_package_file)\n",
    "\n",
    "enc_dic = {}\n",
    "\n",
    "original_product_data = pd.read_csv(product_file, sep=';', encoding='latin1')\n",
    "original_package_data = pd.read_csv(package_file, sep=';', encoding='latin1')"
   ]
  },
  {
   "cell_type": "markdown",
   "metadata": {},
   "source": [
    "# 1. Auscultation\n",
    "Nous avons déjà prétraitées les données (passage en minuscules des données textuelles) afin de minimiser l'inconsistance\n",
    "entre les valeurs.\n",
    "\n",
    "## Etude des données du fichier 'package'"
   ]
  }
 ],
 "metadata": {
  "anaconda-cloud": {},
  "kernelspec": {
   "display_name": "Python 3",
   "language": "python",
   "name": "python3"
  },
  "language_info": {
   "codemirror_mode": {
    "name": "ipython",
    "version": 3
   },
   "file_extension": ".py",
   "mimetype": "text/x-python",
   "name": "python",
   "nbconvert_exporter": "python",
   "pygments_lexer": "ipython3",
   "version": "3.6.1"
  },
  "pycharm": {
   "stem_cell": {
    "cell_type": "raw",
    "source": [],
    "metadata": {
     "collapsed": false
    }
   }
  }
 },
 "nbformat": 4,
 "nbformat_minor": 1
}