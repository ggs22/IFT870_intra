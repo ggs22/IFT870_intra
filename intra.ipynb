{
 "cells": [
  {
   "cell_type": "markdown",
   "metadata": {},
   "source": [
    "# Examen Intra\n",
    "## gibg2501 - 14 mars 2020 "
   ]
  },
  {
   "cell_type": "code",
   "metadata": {
    "pycharm": {
     "is_executing": false
    }
   },
   "source": [
    "\n",
    "import numpy as np\n",
    "import pandas as pd\n",
    "import re\n",
    "import os\n",
    "\n",
    "\n",
    "from _datetime import datetime\n",
    "from sklearn.preprocessing import OneHotEncoder\n",
    "\n",
    "api_journal = pd.read_csv('api_journal11-13-17.csv', encoding='latin1')\n",
    "api_price = pd.read_csv('api_price11-13-17.csv', encoding='latin1')\n",
    "estimated_article_influence = pd.read_csv('estimated-article-influence-scores-2015.csv', encoding='latin1')\n",
    "\n",
    "api_journal_original = api_journal.copy()\n",
    "api_price_original = api_price.copy()\n",
    "estimated_article_influence_original = estimated_article_influence.copy()\n",
    "\n"
   ],
   "outputs": [],
   "execution_count": 1
  },
  {
   "cell_type": "markdown",
   "metadata": {},
   "source": [
    "# Q1"
   ]
  },
  {
   "cell_type": "markdown",
   "metadata": {},
   "source": [
    "La table \"estimated article influence\" présente le nombre de fois où un périodique a été cité. Elle contient les\n",
    "attributs:\n",
    "- journal name:\n",
    "    contient les noms des journeaux dans lesquels les articles sont publiés \n",
    "- issn (International Standard Serial Number)\n",
    "    Contient les numéros de séries d'identification des périodiques\n",
    "- Citation count sum\n",
    "    Compile le nombre de fois ou un périodique a été cité à travers tous les articles\n",
    "- Paper count sum\n",
    "    Compile le nomre de d'articles où le périodique en question a été cité\n",
    "- average citation per parper\n",
    "    Calcul le moyene de citation par article de"
   ]
  },
  {
   "cell_type": "code",
   "metadata": {
    "pycharm": {
     "is_executing": false
    }
   },
   "source": [
    "estimated_article_influence.describe()"
   ],
   "outputs": [
    {
     "data": {
      "text/plain": "        Unnamed: 0  citation_count_sum  paper_count_sum  avg_cites_per_paper  \\\ncount  3615.000000         3603.000000      3603.000000          3603.000000   \nmean   1831.496542         1446.713850       509.671107             2.118970   \nstd    1056.690131         7996.860704      1923.905084             1.687837   \nmin       0.000000            0.000000         1.000000             0.000000   \n25%     916.500000          150.000000       107.000000             1.054941   \n50%    1835.000000          421.000000       239.000000             1.717822   \n75%    2746.500000         1097.000000       522.000000             2.710734   \nmax    3659.000000       426949.000000    104705.000000            26.318824   \n\n           proj_ai  proj_ai_year  \ncount  3603.000000        3615.0  \nmean      0.516554        2015.0  \nstd       0.572554           0.0  \nmin       0.000000        2015.0  \n25%       0.199000        2015.0  \n50%       0.367000        2015.0  \n75%       0.651500        2015.0  \nmax      11.367000        2015.0  ",
      "text/html": "<div>\n<style scoped>\n    .dataframe tbody tr th:only-of-type {\n        vertical-align: middle;\n    }\n\n    .dataframe tbody tr th {\n        vertical-align: top;\n    }\n\n    .dataframe thead th {\n        text-align: right;\n    }\n</style>\n<table border=\"1\" class=\"dataframe\">\n  <thead>\n    <tr style=\"text-align: right;\">\n      <th></th>\n      <th>Unnamed: 0</th>\n      <th>citation_count_sum</th>\n      <th>paper_count_sum</th>\n      <th>avg_cites_per_paper</th>\n      <th>proj_ai</th>\n      <th>proj_ai_year</th>\n    </tr>\n  </thead>\n  <tbody>\n    <tr>\n      <th>count</th>\n      <td>3615.000000</td>\n      <td>3603.000000</td>\n      <td>3603.000000</td>\n      <td>3603.000000</td>\n      <td>3603.000000</td>\n      <td>3615.0</td>\n    </tr>\n    <tr>\n      <th>mean</th>\n      <td>1831.496542</td>\n      <td>1446.713850</td>\n      <td>509.671107</td>\n      <td>2.118970</td>\n      <td>0.516554</td>\n      <td>2015.0</td>\n    </tr>\n    <tr>\n      <th>std</th>\n      <td>1056.690131</td>\n      <td>7996.860704</td>\n      <td>1923.905084</td>\n      <td>1.687837</td>\n      <td>0.572554</td>\n      <td>0.0</td>\n    </tr>\n    <tr>\n      <th>min</th>\n      <td>0.000000</td>\n      <td>0.000000</td>\n      <td>1.000000</td>\n      <td>0.000000</td>\n      <td>0.000000</td>\n      <td>2015.0</td>\n    </tr>\n    <tr>\n      <th>25%</th>\n      <td>916.500000</td>\n      <td>150.000000</td>\n      <td>107.000000</td>\n      <td>1.054941</td>\n      <td>0.199000</td>\n      <td>2015.0</td>\n    </tr>\n    <tr>\n      <th>50%</th>\n      <td>1835.000000</td>\n      <td>421.000000</td>\n      <td>239.000000</td>\n      <td>1.717822</td>\n      <td>0.367000</td>\n      <td>2015.0</td>\n    </tr>\n    <tr>\n      <th>75%</th>\n      <td>2746.500000</td>\n      <td>1097.000000</td>\n      <td>522.000000</td>\n      <td>2.710734</td>\n      <td>0.651500</td>\n      <td>2015.0</td>\n    </tr>\n    <tr>\n      <th>max</th>\n      <td>3659.000000</td>\n      <td>426949.000000</td>\n      <td>104705.000000</td>\n      <td>26.318824</td>\n      <td>11.367000</td>\n      <td>2015.0</td>\n    </tr>\n  </tbody>\n</table>\n</div>"
     },
     "metadata": {},
     "output_type": "execute_result",
     "execution_count": 2
    }
   ],
   "execution_count": 2
  },
  {
   "cell_type": "markdown",
   "metadata": {},
   "source": [
    "La table \"API journal\" classifie les articles dans les divers domaines de la science (Medecine, Geology, Social\n",
    "Science, etc). Elle indique également si les articles sont dispobilbes via l'API REST de flourishoar.org. Ces\n",
    "colonnes sont:\n",
    "- issn (International Standard Serial Number)\n",
    "    Contient les numéros de séries d'identification des périodiques\n",
    "- journal name:\n",
    "    contient les noms des journeaux qui sont disponibles via l'API de flourishoa\n",
    "- pub_name\n",
    "    présente le nom du publieur des périodiques. Il S'agit de valeurs textuelles, et certaines sont manquantes.\n",
    "- is hybrid\n",
    "    Indique si le périodique est disponible selon la modalité d'abonnement hybride sous laquelle certains artices\n",
    "    sont donnés en accès gratuits. Il s'agit d'une variable booléenne.\n",
    "- category\n",
    "    Indique la domaine du périodique. Beacoup de valeurs sont \"NULL\" et certaines sont carrément absentes.\n",
    "- url\n",
    "    Donne le \"Unique Ressource Locator\" pour le périodique. La plupart des valeurs sont absentes ou \"NULL\"."
   ]
  },
  {
   "cell_type": "code",
   "metadata": {
    "pycharm": {
     "is_executing": false
    }
   },
   "source": [
    "api_journal.describe()"
   ],
   "outputs": [
    {
     "data": {
      "text/plain": "          is_hybrid\ncount  13149.000000\nmean       0.131949\nstd        0.338448\nmin        0.000000\n25%        0.000000\n50%        0.000000\n75%        0.000000\nmax        1.000000",
      "text/html": "<div>\n<style scoped>\n    .dataframe tbody tr th:only-of-type {\n        vertical-align: middle;\n    }\n\n    .dataframe tbody tr th {\n        vertical-align: top;\n    }\n\n    .dataframe thead th {\n        text-align: right;\n    }\n</style>\n<table border=\"1\" class=\"dataframe\">\n  <thead>\n    <tr style=\"text-align: right;\">\n      <th></th>\n      <th>is_hybrid</th>\n    </tr>\n  </thead>\n  <tbody>\n    <tr>\n      <th>count</th>\n      <td>13149.000000</td>\n    </tr>\n    <tr>\n      <th>mean</th>\n      <td>0.131949</td>\n    </tr>\n    <tr>\n      <th>std</th>\n      <td>0.338448</td>\n    </tr>\n    <tr>\n      <th>min</th>\n      <td>0.000000</td>\n    </tr>\n    <tr>\n      <th>25%</th>\n      <td>0.000000</td>\n    </tr>\n    <tr>\n      <th>50%</th>\n      <td>0.000000</td>\n    </tr>\n    <tr>\n      <th>75%</th>\n      <td>0.000000</td>\n    </tr>\n    <tr>\n      <th>max</th>\n      <td>1.000000</td>\n    </tr>\n  </tbody>\n</table>\n</div>"
     },
     "metadata": {},
     "output_type": "execute_result",
     "execution_count": 3
    }
   ],
   "execution_count": 3
  },
  {
   "cell_type": "markdown",
   "metadata": {},
   "source": [
    "La table \"API price\" aggrège les données relatives aux prix des différentes publications. Elles contient les attributs:\n",
    "- id\n",
    "    numéro séquentiel ordonnant les entrées de la table\n",
    "- price \n",
    "    indique le prix des publicatios il d'agit de valeurs numériques\n",
    "- date_stamp\n",
    "    indique la date pour laquelle le prix a été recensé\n",
    "- journal id\n",
    "    contient un identifiant numérique pour le journal\n",
    "- influence_id\n",
    "    contient un indicateur numérique du degré d'infuence d'une publication. La plupart des valeurs sont NULL \n",
    "- url\n",
    "    Donne le \"Unified Ressource Locator\" qui semble a priori porté sur le prix des publications\n",
    "    (ex: https://www.elsevier.com/journals/alcohol/0741-8329/open-access-options). Cependant, la plupart des liens\n",
    "    semblent brisés."
   ]
  },
  {
   "cell_type": "code",
   "metadata": {
    "pycharm": {
     "is_executing": false
    }
   },
   "source": [
    "api_price.describe()"
   ],
   "outputs": [
    {
     "data": {
      "text/plain": "                 id        price  influence_id     license\ncount   7795.000000  7795.000000    759.000000  378.000000\nmean   12588.002309  1273.908794   4570.260870    3.989418\nstd     2250.370998  1264.786225    583.092441    3.716034\nmin     8691.000000     0.000000    209.000000    1.000000\n25%    10639.500000     0.000000   4324.500000    1.000000\n50%    12588.000000  1000.000000   4571.000000    1.000000\n75%    14536.500000  2580.000000   4937.500000    6.000000\nmax    16486.000000  7590.000000   5516.000000   10.000000",
      "text/html": "<div>\n<style scoped>\n    .dataframe tbody tr th:only-of-type {\n        vertical-align: middle;\n    }\n\n    .dataframe tbody tr th {\n        vertical-align: top;\n    }\n\n    .dataframe thead th {\n        text-align: right;\n    }\n</style>\n<table border=\"1\" class=\"dataframe\">\n  <thead>\n    <tr style=\"text-align: right;\">\n      <th></th>\n      <th>id</th>\n      <th>price</th>\n      <th>influence_id</th>\n      <th>license</th>\n    </tr>\n  </thead>\n  <tbody>\n    <tr>\n      <th>count</th>\n      <td>7795.000000</td>\n      <td>7795.000000</td>\n      <td>759.000000</td>\n      <td>378.000000</td>\n    </tr>\n    <tr>\n      <th>mean</th>\n      <td>12588.002309</td>\n      <td>1273.908794</td>\n      <td>4570.260870</td>\n      <td>3.989418</td>\n    </tr>\n    <tr>\n      <th>std</th>\n      <td>2250.370998</td>\n      <td>1264.786225</td>\n      <td>583.092441</td>\n      <td>3.716034</td>\n    </tr>\n    <tr>\n      <th>min</th>\n      <td>8691.000000</td>\n      <td>0.000000</td>\n      <td>209.000000</td>\n      <td>1.000000</td>\n    </tr>\n    <tr>\n      <th>25%</th>\n      <td>10639.500000</td>\n      <td>0.000000</td>\n      <td>4324.500000</td>\n      <td>1.000000</td>\n    </tr>\n    <tr>\n      <th>50%</th>\n      <td>12588.000000</td>\n      <td>1000.000000</td>\n      <td>4571.000000</td>\n      <td>1.000000</td>\n    </tr>\n    <tr>\n      <th>75%</th>\n      <td>14536.500000</td>\n      <td>2580.000000</td>\n      <td>4937.500000</td>\n      <td>6.000000</td>\n    </tr>\n    <tr>\n      <th>max</th>\n      <td>16486.000000</td>\n      <td>7590.000000</td>\n      <td>5516.000000</td>\n      <td>10.000000</td>\n    </tr>\n  </tbody>\n</table>\n</div>"
     },
     "metadata": {},
     "output_type": "execute_result",
     "execution_count": 4
    }
   ],
   "execution_count": 4
  },
  {
   "cell_type": "markdown",
   "metadata": {},
   "source": [
    "# Q2"
   ]
  },
  {
   "cell_type": "markdown",
   "metadata": {},
   "source": [
    "Selon wikipedia, un issn peut servir à différencier des publications ayant le même tite: \"An International Standard\n",
    "Serial Number (ISSN) is an eight-digit serial number used to uniquely identify a serial publication, such as a magazine.\n",
    "[1] The ISSN is especially helpful in distinguishing between serials with the same title.\" Les publications ayant le même\n",
    "titre ne seront donc pas considérées comme des duplicatats si leurs issn diffèrent"
   ]
  },
  {
   "cell_type": "code",
   "metadata": {
    "pycharm": {
     "is_executing": false
    }
   },
   "source": [
    "\n",
    "api_journal.duplicated()"
   ],
   "outputs": [
    {
     "data": {
      "text/plain": "0        False\n1        False\n2        False\n3        False\n4        False\n         ...  \n13144    False\n13145    False\n13146    False\n13147    False\n13148    False\nLength: 13149, dtype: bool"
     },
     "metadata": {},
     "output_type": "execute_result",
     "execution_count": 5
    }
   ],
   "execution_count": 5
  },
  {
   "cell_type": "code",
   "metadata": {
    "pycharm": {
     "is_executing": false
    }
   },
   "source": [
    "\n",
    "# Transform text columns to numerical categories\n",
    "api_journal['journal_name'] = api_journal['journal_name'].astype('category')\n",
    "api_journal['pub_name'] = api_journal['pub_name'].astype('category')\n",
    "\n",
    "api_journal.dtypes.keys()[0]\n",
    "\n",
    "cat_columns = api_journal.select_dtypes('category').columns\n",
    "\n",
    "api_journal[cat_columns] = api_journal[cat_columns].apply(lambda x: x.cat.codes)\n",
    "\n",
    "print('e')\n",
    "\n"
   ],
   "outputs": [
    {
     "name": "stdout",
     "text": [
      "e\n"
     ],
     "output_type": "stream"
    }
   ],
   "execution_count": 6
  }
 ],
 "metadata": {
  "anaconda-cloud": {},
  "kernelspec": {
   "name": "pycharm-3359ad28",
   "language": "python",
   "display_name": "PyCharm (IFT870-TP1)"
  },
  "language_info": {
   "codemirror_mode": {
    "name": "ipython",
    "version": 3
   },
   "file_extension": ".py",
   "mimetype": "text/x-python",
   "name": "python",
   "nbconvert_exporter": "python",
   "pygments_lexer": "ipython3",
   "version": "3.6.1"
  }
 },
 "nbformat": 4,
 "nbformat_minor": 1
}